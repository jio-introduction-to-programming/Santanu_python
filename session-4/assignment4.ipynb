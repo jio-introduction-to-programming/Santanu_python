{
 "cells": [
  {
   "cell_type": "markdown",
   "metadata": {},
   "source": [
    "1. write a function which takes a list\n",
    "as input and return its sum."
   ]
  },
  {
   "cell_type": "code",
   "execution_count": 2,
   "metadata": {},
   "outputs": [
    {
     "name": "stdout",
     "output_type": "stream",
     "text": [
      "15\n"
     ]
    }
   ],
   "source": [
    "def list_sum(lst):\n",
    "    sum_lst = sum(lst)\n",
    "    return sum_lst\n",
    "\n",
    "lst = list(map(int, input().split()))\n",
    "print(list_sum(lst))\n"
   ]
  },
  {
   "cell_type": "markdown",
   "metadata": {},
   "source": [
    "2. Write a function which takes a list\n",
    "as an input and return the max\n",
    "element in the list"
   ]
  },
  {
   "cell_type": "code",
   "execution_count": 3,
   "metadata": {},
   "outputs": [
    {
     "name": "stdout",
     "output_type": "stream",
     "text": [
      "4\n"
     ]
    }
   ],
   "source": [
    "def list_max(lst):\n",
    "    max_lst = max(lst)\n",
    "    return max_lst\n",
    "\n",
    "lst = list(map(int, input().split()))\n",
    "print(list_max(lst))\n"
   ]
  },
  {
   "cell_type": "markdown",
   "metadata": {},
   "source": [
    "3. Write a function which takes a list as\n",
    "input and returns the reverse of the\n",
    "list in the output"
   ]
  },
  {
   "cell_type": "code",
   "execution_count": 8,
   "metadata": {},
   "outputs": [
    {
     "name": "stdout",
     "output_type": "stream",
     "text": [
      "[4, 3, 2, 1]\n"
     ]
    }
   ],
   "source": [
    "def reverse_list(lst):\n",
    "    lst_up = []\n",
    "    for i in range(len(lst)-1, -1, -1):\n",
    "        lst_up.append(lst[i])\n",
    "\n",
    "    #rev_lst = reversed(lst)\n",
    "    #return rev_lst\n",
    "    return lst_up\n",
    "\n",
    "lst = list(map(int, input().split()))\n",
    "print(reverse_list(lst))\n"
   ]
  },
  {
   "cell_type": "markdown",
   "metadata": {},
   "source": [
    "4. Write a function which takes a list as\n",
    "input and returns the list in sorted\n",
    "format. ( Note: You're not allowed to\n",
    "use in-built functions )"
   ]
  },
  {
   "cell_type": "code",
   "execution_count": 16,
   "metadata": {},
   "outputs": [
    {
     "name": "stdout",
     "output_type": "stream",
     "text": [
      "[2, 4, 7, 9]\n"
     ]
    }
   ],
   "source": [
    "def list_sort(lst):\n",
    "    lst_sort = []\n",
    "    while len(lst)>-1:\n",
    "        lst_sort.append(min(lst))\n",
    "        lst.pop(lst.index(min(lst)))\n",
    "        if len(lst) == 0:\n",
    "            break\n",
    "    return lst_sort\n",
    "\n",
    "lst = list(map(int, input().split()))\n",
    "print(list_sort(lst))"
   ]
  },
  {
   "cell_type": "markdown",
   "metadata": {},
   "source": [
    "5. Write a function which takes a list as\n",
    "an input and returns the following\n",
    "statistics:\n",
    "Mean / Average\n",
    "Mode"
   ]
  },
  {
   "cell_type": "code",
   "execution_count": 17,
   "metadata": {},
   "outputs": [
    {
     "name": "stdout",
     "output_type": "stream",
     "text": [
      "(4.25, 4)\n"
     ]
    }
   ],
   "source": [
    "from statistics import mean\n",
    "from statistics import mode\n",
    "def mean_mode(lst):\n",
    "    mean_lst = mean(lst)\n",
    "    mode_lst = mode(lst)\n",
    "    return (mean_lst, mode_lst)\n",
    "\n",
    "lst = list(map(int, input().split()))\n",
    "print(mean_mode(lst))\n"
   ]
  },
  {
   "cell_type": "markdown",
   "metadata": {},
   "source": [
    "6.\n",
    "Step-1 Read a sequence of numbers\n",
    "as an input from user.\n",
    "Step-2 Read another integer k from\n",
    "the user\n",
    "Step-3 Ask user to input two number\n",
    "start and end, k times\n",
    "Step-4 Return the sum of the array\n",
    "from start -> end as a result in the ksized\n",
    "list"
   ]
  },
  {
   "cell_type": "code",
   "execution_count": 18,
   "metadata": {},
   "outputs": [
    {
     "name": "stdout",
     "output_type": "stream",
     "text": [
      "[21, 36]\n"
     ]
    }
   ],
   "source": [
    "def sum_klist(lst, k):\n",
    "    k_list_sum = []\n",
    "    for i in range(k):\n",
    "        s = int(input('start: '))\n",
    "        e = int(input('end: '))\n",
    "        k_list_sum.append(sum(lst[s:e+1]))\n",
    "    return k_list_sum\n",
    "\n",
    "\n",
    "lst = list(map(int, input().split()))\n",
    "k = int(input('Enter k: '))\n",
    "print(sum_klist(lst, k))\n",
    "\n"
   ]
  },
  {
   "cell_type": "markdown",
   "metadata": {},
   "source": []
  },
  {
   "cell_type": "code",
   "execution_count": null,
   "metadata": {},
   "outputs": [],
   "source": []
  }
 ],
 "metadata": {
  "kernelspec": {
   "display_name": "Python 3",
   "language": "python",
   "name": "python3"
  },
  "language_info": {
   "codemirror_mode": {
    "name": "ipython",
    "version": 3
   },
   "file_extension": ".py",
   "mimetype": "text/x-python",
   "name": "python",
   "nbconvert_exporter": "python",
   "pygments_lexer": "ipython3",
   "version": "3.11.4"
  },
  "orig_nbformat": 4
 },
 "nbformat": 4,
 "nbformat_minor": 2
}
